{
 "cells": [
  {
   "cell_type": "code",
   "execution_count": null,
   "id": "3f1e3eae",
   "metadata": {},
   "outputs": [],
   "source": [
    "Introduction to looping statements :"
   ]
  },
  {
   "cell_type": "code",
   "execution_count": null,
   "id": "0bc12234",
   "metadata": {},
   "outputs": [],
   "source": []
  },
  {
   "cell_type": "code",
   "execution_count": null,
   "id": "60422021",
   "metadata": {},
   "outputs": [],
   "source": [
    "Understanding the concept of foe loop :"
   ]
  },
  {
   "cell_type": "code",
   "execution_count": null,
   "id": "18cd836b",
   "metadata": {},
   "outputs": [],
   "source": [
    "# general syntax of for loop :"
   ]
  },
  {
   "cell_type": "code",
   "execution_count": null,
   "id": "f7d562e3",
   "metadata": {},
   "outputs": [],
   "source": [
    "# formulae :\n",
    "\n",
    "for temp_var in main_var :\n",
    "    print(temp_var)"
   ]
  },
  {
   "cell_type": "code",
   "execution_count": 8,
   "id": "5c711e6e",
   "metadata": {},
   "outputs": [],
   "source": [
    "students = ['akhil','nikhil','jaggu','leelu']"
   ]
  },
  {
   "cell_type": "code",
   "execution_count": 9,
   "id": "0e9f4070",
   "metadata": {},
   "outputs": [
    {
     "name": "stdout",
     "output_type": "stream",
     "text": [
      "['akhil', 'nikhil', 'jaggu', 'leelu']\n"
     ]
    }
   ],
   "source": [
    "print(students)"
   ]
  },
  {
   "cell_type": "code",
   "execution_count": 10,
   "id": "68db256f",
   "metadata": {},
   "outputs": [
    {
     "data": {
      "text/plain": [
       "list"
      ]
     },
     "execution_count": 10,
     "metadata": {},
     "output_type": "execute_result"
    }
   ],
   "source": [
    "type(students)"
   ]
  },
  {
   "cell_type": "code",
   "execution_count": null,
   "id": "d552e70f",
   "metadata": {},
   "outputs": [],
   "source": []
  },
  {
   "cell_type": "code",
   "execution_count": null,
   "id": "e3a1ca73",
   "metadata": {},
   "outputs": [],
   "source": [
    "# req : I want to appreciate the above students in the list......?"
   ]
  },
  {
   "cell_type": "code",
   "execution_count": 15,
   "id": "9dbb993c",
   "metadata": {},
   "outputs": [
    {
     "name": "stdout",
     "output_type": "stream",
     "text": [
      " keep up the good work, Nikhil\n"
     ]
    }
   ],
   "source": [
    "print(f\" keep up the good work, {students[1].title()}\")"
   ]
  },
  {
   "cell_type": "code",
   "execution_count": null,
   "id": "d41d50da",
   "metadata": {},
   "outputs": [],
   "source": []
  },
  {
   "cell_type": "code",
   "execution_count": 17,
   "id": "55c09214",
   "metadata": {},
   "outputs": [
    {
     "name": "stdout",
     "output_type": "stream",
     "text": [
      " keep up the good work, akhil\n",
      " keep up the good work, nikhil\n",
      " keep up the good work, jaggu\n",
      " keep up the good work, leelu\n"
     ]
    }
   ],
   "source": [
    "for x in students :\n",
    "    print(f\" keep up the good work, {x}\")"
   ]
  },
  {
   "cell_type": "code",
   "execution_count": null,
   "id": "fe61488a",
   "metadata": {},
   "outputs": [],
   "source": [
    "for temp_var in main_var :\n",
    "    print(temp_var)"
   ]
  },
  {
   "cell_type": "code",
   "execution_count": 18,
   "id": "00acb2aa",
   "metadata": {},
   "outputs": [
    {
     "name": "stdout",
     "output_type": "stream",
     "text": [
      "akhil\n",
      "nikhil\n",
      "jaggu\n",
      "leelu\n"
     ]
    }
   ],
   "source": [
    "for a in students :\n",
    "    print(a)"
   ]
  },
  {
   "cell_type": "code",
   "execution_count": null,
   "id": "4bba6117",
   "metadata": {},
   "outputs": [],
   "source": []
  },
  {
   "cell_type": "code",
   "execution_count": null,
   "id": "d88215f3",
   "metadata": {},
   "outputs": [],
   "source": [
    "# req : I want to remind them that i will be looing forward for the running notes of today."
   ]
  },
  {
   "cell_type": "code",
   "execution_count": 19,
   "id": "361202d0",
   "metadata": {},
   "outputs": [
    {
     "name": "stdout",
     "output_type": "stream",
     "text": [
      " keep up the good work, akhil\n",
      " I will be looking forward for todays submission, akhil\n",
      " keep up the good work, nikhil\n",
      " I will be looking forward for todays submission, nikhil\n",
      " keep up the good work, jaggu\n",
      " I will be looking forward for todays submission, jaggu\n",
      " keep up the good work, leelu\n",
      " I will be looking forward for todays submission, leelu\n"
     ]
    }
   ],
   "source": [
    "for x in students :\n",
    "    print(f\" keep up the good work, {x}\")\n",
    "    print(f\" I will be looking forward for todays submission, {x}\")"
   ]
  },
  {
   "cell_type": "code",
   "execution_count": null,
   "id": "b2852717",
   "metadata": {},
   "outputs": [],
   "source": []
  },
  {
   "cell_type": "code",
   "execution_count": null,
   "id": "8de1069b",
   "metadata": {},
   "outputs": [],
   "source": [
    "# enhancement of the code.......!"
   ]
  },
  {
   "cell_type": "code",
   "execution_count": 20,
   "id": "53e73d2f",
   "metadata": {},
   "outputs": [
    {
     "name": "stdout",
     "output_type": "stream",
     "text": [
      " keep up the good work, akhil\n",
      " I will be looking forward for todays submission, akhil\n",
      "\n",
      " keep up the good work, nikhil\n",
      " I will be looking forward for todays submission, nikhil\n",
      "\n",
      " keep up the good work, jaggu\n",
      " I will be looking forward for todays submission, jaggu\n",
      "\n",
      " keep up the good work, leelu\n",
      " I will be looking forward for todays submission, leelu\n",
      "\n"
     ]
    }
   ],
   "source": [
    "for x in students :\n",
    "    print(f\" keep up the good work, {x}\")\n",
    "    print(f\" I will be looking forward for todays submission, {x}\\n\")"
   ]
  },
  {
   "cell_type": "code",
   "execution_count": null,
   "id": "f0d7f88a",
   "metadata": {},
   "outputs": [],
   "source": []
  },
  {
   "cell_type": "code",
   "execution_count": null,
   "id": "8e003aa7",
   "metadata": {},
   "outputs": [],
   "source": []
  }
 ],
 "metadata": {
  "kernelspec": {
   "display_name": "Python 3 (ipykernel)",
   "language": "python",
   "name": "python3"
  },
  "language_info": {
   "codemirror_mode": {
    "name": "ipython",
    "version": 3
   },
   "file_extension": ".py",
   "mimetype": "text/x-python",
   "name": "python",
   "nbconvert_exporter": "python",
   "pygments_lexer": "ipython3",
   "version": "3.9.13"
  }
 },
 "nbformat": 4,
 "nbformat_minor": 5
}
