{
 "cells": [
  {
   "cell_type": "code",
   "execution_count": null,
   "id": "2f2b958b",
   "metadata": {},
   "outputs": [],
   "source": [
    "Working with list datatype :"
   ]
  },
  {
   "cell_type": "code",
   "execution_count": 1,
   "id": "de6bb0ac",
   "metadata": {},
   "outputs": [],
   "source": [
    "places = ['ksp','kdp','cmd','rct','nlr','mpl']"
   ]
  },
  {
   "cell_type": "code",
   "execution_count": 2,
   "id": "a38ac839",
   "metadata": {},
   "outputs": [
    {
     "name": "stdout",
     "output_type": "stream",
     "text": [
      "['ksp', 'kdp', 'cmd', 'rct', 'nlr', 'mpl']\n"
     ]
    }
   ],
   "source": [
    "print(places)"
   ]
  },
  {
   "cell_type": "code",
   "execution_count": null,
   "id": "fd4f7a01",
   "metadata": {},
   "outputs": [],
   "source": [
    "# req : To print the list in alphabetical order......?\n",
    "\n",
    "1) temporary approach ------> sorted ------> it maintains original order\n",
    "2) permanent approach ------> sort   ------> changes are applied permanently"
   ]
  },
  {
   "cell_type": "code",
   "execution_count": 6,
   "id": "3e61cba3",
   "metadata": {},
   "outputs": [
    {
     "name": "stdout",
     "output_type": "stream",
     "text": [
      "['cmd', 'kdp', 'ksp', 'mpl', 'nlr', 'rct']\n"
     ]
    }
   ],
   "source": [
    "print(sorted(places))"
   ]
  },
  {
   "cell_type": "code",
   "execution_count": 8,
   "id": "1a3fd2d8",
   "metadata": {},
   "outputs": [],
   "source": [
    "places.sort()"
   ]
  },
  {
   "cell_type": "code",
   "execution_count": 9,
   "id": "18ae6cdb",
   "metadata": {},
   "outputs": [
    {
     "name": "stdout",
     "output_type": "stream",
     "text": [
      "['cmd', 'kdp', 'ksp', 'mpl', 'nlr', 'rct']\n"
     ]
    }
   ],
   "source": [
    "print(places)"
   ]
  },
  {
   "cell_type": "code",
   "execution_count": 11,
   "id": "b4961025",
   "metadata": {},
   "outputs": [],
   "source": [
    "places.reverse()       # to sort the list in reverse order"
   ]
  },
  {
   "cell_type": "code",
   "execution_count": 12,
   "id": "6fe75497",
   "metadata": {},
   "outputs": [
    {
     "name": "stdout",
     "output_type": "stream",
     "text": [
      "['rct', 'nlr', 'mpl', 'ksp', 'kdp', 'cmd']\n"
     ]
    }
   ],
   "source": [
    "print(places)"
   ]
  },
  {
   "cell_type": "code",
   "execution_count": 15,
   "id": "cb10079d",
   "metadata": {},
   "outputs": [
    {
     "data": {
      "text/plain": [
       "6"
      ]
     },
     "execution_count": 15,
     "metadata": {},
     "output_type": "execute_result"
    }
   ],
   "source": [
    "len(places)            # to know no. of elements in the list"
   ]
  },
  {
   "cell_type": "code",
   "execution_count": null,
   "id": "4d1d2054",
   "metadata": {},
   "outputs": [],
   "source": []
  },
  {
   "cell_type": "code",
   "execution_count": null,
   "id": "5403d4d9",
   "metadata": {},
   "outputs": [],
   "source": [
    "Introduction to Slicing :"
   ]
  },
  {
   "cell_type": "code",
   "execution_count": null,
   "id": "ba67d35b",
   "metadata": {},
   "outputs": [],
   "source": []
  },
  {
   "cell_type": "code",
   "execution_count": 16,
   "id": "776c6909",
   "metadata": {},
   "outputs": [],
   "source": [
    "students = ['akhil','nikhil','giri','mani','balaji','prp']"
   ]
  },
  {
   "cell_type": "code",
   "execution_count": 17,
   "id": "5080d0cf",
   "metadata": {},
   "outputs": [
    {
     "name": "stdout",
     "output_type": "stream",
     "text": [
      "['akhil', 'nikhil', 'giri', 'mani', 'balaji', 'prp']\n"
     ]
    }
   ],
   "source": [
    "print(students)"
   ]
  },
  {
   "cell_type": "code",
   "execution_count": 18,
   "id": "b8dcb6af",
   "metadata": {},
   "outputs": [
    {
     "data": {
      "text/plain": [
       "list"
      ]
     },
     "execution_count": 18,
     "metadata": {},
     "output_type": "execute_result"
    }
   ],
   "source": [
    "type(students)      # to know the method name for validating datatype......"
   ]
  },
  {
   "cell_type": "code",
   "execution_count": null,
   "id": "7f4df27b",
   "metadata": {},
   "outputs": [],
   "source": []
  },
  {
   "cell_type": "code",
   "execution_count": null,
   "id": "d909adbb",
   "metadata": {},
   "outputs": [],
   "source": [
    "# general syntax of slicing :"
   ]
  },
  {
   "cell_type": "code",
   "execution_count": null,
   "id": "9ac50cca",
   "metadata": {},
   "outputs": [],
   "source": [
    "[startvalue:stopvalue:stepvalue]"
   ]
  },
  {
   "cell_type": "code",
   "execution_count": 19,
   "id": "76407af4",
   "metadata": {},
   "outputs": [
    {
     "name": "stdout",
     "output_type": "stream",
     "text": [
      "['akhil', 'nikhil', 'giri', 'mani', 'balaji', 'prp']\n"
     ]
    }
   ],
   "source": [
    "print(students)"
   ]
  },
  {
   "cell_type": "code",
   "execution_count": null,
   "id": "ec1c9e8d",
   "metadata": {},
   "outputs": [],
   "source": []
  },
  {
   "cell_type": "code",
   "execution_count": null,
   "id": "bb9c2a5a",
   "metadata": {},
   "outputs": [],
   "source": [
    "# stop value is always exclusive - to include we have to increment the index by +1"
   ]
  },
  {
   "cell_type": "code",
   "execution_count": 20,
   "id": "898fa78e",
   "metadata": {},
   "outputs": [
    {
     "name": "stdout",
     "output_type": "stream",
     "text": [
      "['akhil']\n"
     ]
    }
   ],
   "source": [
    " print(students[0:1])            # to get akhil and nikhil in the op........"
   ]
  },
  {
   "cell_type": "code",
   "execution_count": 21,
   "id": "ad784e5c",
   "metadata": {},
   "outputs": [
    {
     "name": "stdout",
     "output_type": "stream",
     "text": [
      "['akhil', 'nikhil']\n"
     ]
    }
   ],
   "source": [
    "print(students[0:2])             # stop value always be +1 ---------> ex : (0 : 1+1)"
   ]
  },
  {
   "cell_type": "code",
   "execution_count": 22,
   "id": "29168176",
   "metadata": {},
   "outputs": [
    {
     "name": "stdout",
     "output_type": "stream",
     "text": [
      "['giri', 'mani']\n"
     ]
    }
   ],
   "source": [
    "print(students[2:4])             # to get giri and mani in the op ........."
   ]
  },
  {
   "cell_type": "code",
   "execution_count": 24,
   "id": "751e27a0",
   "metadata": {},
   "outputs": [
    {
     "name": "stdout",
     "output_type": "stream",
     "text": [
      "['balaji', 'prp']\n"
     ]
    }
   ],
   "source": [
    "print(students[4:6])             # to get balaji and prp in the op ........"
   ]
  },
  {
   "cell_type": "code",
   "execution_count": 25,
   "id": "a2e144ed",
   "metadata": {},
   "outputs": [
    {
     "name": "stdout",
     "output_type": "stream",
     "text": [
      "['akhil', 'nikhil', 'giri', 'mani', 'balaji', 'prp']\n"
     ]
    }
   ],
   "source": [
    "print(students)"
   ]
  },
  {
   "cell_type": "code",
   "execution_count": 26,
   "id": "5174267c",
   "metadata": {},
   "outputs": [
    {
     "name": "stdout",
     "output_type": "stream",
     "text": [
      "['akhil', 'giri', 'balaji']\n"
     ]
    }
   ],
   "source": [
    "print(students[0:6:2])           # using the stepvalue.........Here is an example"
   ]
  },
  {
   "cell_type": "code",
   "execution_count": 27,
   "id": "cdd4a507",
   "metadata": {},
   "outputs": [
    {
     "name": "stdout",
     "output_type": "stream",
     "text": [
      "['akhil', 'mani']\n"
     ]
    }
   ],
   "source": [
    "print(students[0:6:3])"
   ]
  },
  {
   "cell_type": "code",
   "execution_count": null,
   "id": "bbd55768",
   "metadata": {},
   "outputs": [],
   "source": []
  }
 ],
 "metadata": {
  "kernelspec": {
   "display_name": "Python 3 (ipykernel)",
   "language": "python",
   "name": "python3"
  },
  "language_info": {
   "codemirror_mode": {
    "name": "ipython",
    "version": 3
   },
   "file_extension": ".py",
   "mimetype": "text/x-python",
   "name": "python",
   "nbconvert_exporter": "python",
   "pygments_lexer": "ipython3",
   "version": "3.9.13"
  }
 },
 "nbformat": 4,
 "nbformat_minor": 5
}
