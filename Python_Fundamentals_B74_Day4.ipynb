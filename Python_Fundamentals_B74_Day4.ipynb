{
 "cells": [
  {
   "cell_type": "code",
   "execution_count": 1,
   "id": "abe4819c",
   "metadata": {},
   "outputs": [],
   "source": [
    "students = ['akhil','nikhil','prp','giri']"
   ]
  },
  {
   "cell_type": "code",
   "execution_count": 2,
   "id": "16637284",
   "metadata": {},
   "outputs": [
    {
     "name": "stdout",
     "output_type": "stream",
     "text": [
      "['akhil', 'nikhil', 'prp', 'giri']\n"
     ]
    }
   ],
   "source": [
    "print(students)"
   ]
  },
  {
   "cell_type": "code",
   "execution_count": null,
   "id": "44f1fbd3",
   "metadata": {},
   "outputs": [],
   "source": []
  },
  {
   "cell_type": "code",
   "execution_count": null,
   "id": "a72ee7cf",
   "metadata": {},
   "outputs": [],
   "source": [
    "Introduction to indexing : 0,1,2,3,4..........."
   ]
  },
  {
   "cell_type": "code",
   "execution_count": null,
   "id": "b884337b",
   "metadata": {},
   "outputs": [],
   "source": []
  },
  {
   "cell_type": "code",
   "execution_count": 4,
   "id": "906f35e0",
   "metadata": {},
   "outputs": [
    {
     "name": "stdout",
     "output_type": "stream",
     "text": [
      "nikhil\n"
     ]
    }
   ],
   "source": [
    "print(students[1])     "
   ]
  },
  {
   "cell_type": "code",
   "execution_count": 13,
   "id": "9098571e",
   "metadata": {},
   "outputs": [
    {
     "name": "stdout",
     "output_type": "stream",
     "text": [
      "Prp\n"
     ]
    }
   ],
   "source": [
    "print(students[2].title())      # To get in the correct format.....?  use title()"
   ]
  },
  {
   "cell_type": "code",
   "execution_count": 14,
   "id": "3ddebed1",
   "metadata": {},
   "outputs": [],
   "source": [
    "students.append('mani')         # To add new elements in the list.....? use append method"
   ]
  },
  {
   "cell_type": "code",
   "execution_count": 15,
   "id": "770661ae",
   "metadata": {},
   "outputs": [
    {
     "name": "stdout",
     "output_type": "stream",
     "text": [
      "['akhil', 'nikhil', 'prp', 'giri', 'mani']\n"
     ]
    }
   ],
   "source": [
    "print(students)"
   ]
  },
  {
   "cell_type": "code",
   "execution_count": 16,
   "id": "c24f26db",
   "metadata": {},
   "outputs": [],
   "source": [
    "students.insert(2,'jagga')      # To insert elements in the desired position.....? use insert method"
   ]
  },
  {
   "cell_type": "code",
   "execution_count": 17,
   "id": "2f3dec5b",
   "metadata": {},
   "outputs": [
    {
     "name": "stdout",
     "output_type": "stream",
     "text": [
      "['akhil', 'nikhil', 'jagga', 'prp', 'giri', 'mani']\n"
     ]
    }
   ],
   "source": [
    "print(students)"
   ]
  },
  {
   "cell_type": "code",
   "execution_count": 18,
   "id": "432afdfb",
   "metadata": {},
   "outputs": [],
   "source": [
    "students[0] = 'akki'            # To modify the elements in the list.....?"
   ]
  },
  {
   "cell_type": "code",
   "execution_count": 19,
   "id": "d3d61a9a",
   "metadata": {},
   "outputs": [
    {
     "name": "stdout",
     "output_type": "stream",
     "text": [
      "['akki', 'nikhil', 'jagga', 'prp', 'giri', 'mani']\n"
     ]
    }
   ],
   "source": [
    "print(students)"
   ]
  },
  {
   "cell_type": "code",
   "execution_count": 20,
   "id": "56c68b4b",
   "metadata": {},
   "outputs": [],
   "source": [
    "del students[2]                # To delete the elements in the list.....? use del "
   ]
  },
  {
   "cell_type": "code",
   "execution_count": 21,
   "id": "47548959",
   "metadata": {},
   "outputs": [
    {
     "name": "stdout",
     "output_type": "stream",
     "text": [
      "['akki', 'nikhil', 'prp', 'giri', 'mani']\n"
     ]
    }
   ],
   "source": [
    "print(students)"
   ]
  },
  {
   "cell_type": "code",
   "execution_count": null,
   "id": "f3e5f6fc",
   "metadata": {},
   "outputs": [],
   "source": []
  },
  {
   "cell_type": "code",
   "execution_count": null,
   "id": "8808e591",
   "metadata": {},
   "outputs": [],
   "source": [
    "Pop Method : deletes last element from the list and saving in variable assigned"
   ]
  },
  {
   "cell_type": "code",
   "execution_count": 22,
   "id": "c19cb173",
   "metadata": {},
   "outputs": [],
   "source": [
    "x = students.pop()"
   ]
  },
  {
   "cell_type": "code",
   "execution_count": 23,
   "id": "99244469",
   "metadata": {},
   "outputs": [
    {
     "name": "stdout",
     "output_type": "stream",
     "text": [
      "['akki', 'nikhil', 'prp', 'giri']\n"
     ]
    }
   ],
   "source": [
    "print(students)"
   ]
  },
  {
   "cell_type": "code",
   "execution_count": 24,
   "id": "31ae7259",
   "metadata": {},
   "outputs": [
    {
     "name": "stdout",
     "output_type": "stream",
     "text": [
      "mani\n"
     ]
    }
   ],
   "source": [
    "print(x)"
   ]
  },
  {
   "cell_type": "code",
   "execution_count": null,
   "id": "d3def037",
   "metadata": {},
   "outputs": [],
   "source": []
  },
  {
   "cell_type": "code",
   "execution_count": null,
   "id": "9988a35e",
   "metadata": {},
   "outputs": [],
   "source": [
    "Negative Indexing : -1,-2,-3,-4,-5........... reverse indexing"
   ]
  },
  {
   "cell_type": "code",
   "execution_count": 27,
   "id": "b2d6bd4a",
   "metadata": {},
   "outputs": [
    {
     "name": "stdout",
     "output_type": "stream",
     "text": [
      "nikhil\n"
     ]
    }
   ],
   "source": [
    "print(students[-3])"
   ]
  },
  {
   "cell_type": "code",
   "execution_count": null,
   "id": "7c3e87f3",
   "metadata": {},
   "outputs": [],
   "source": []
  }
 ],
 "metadata": {
  "kernelspec": {
   "display_name": "Python 3 (ipykernel)",
   "language": "python",
   "name": "python3"
  },
  "language_info": {
   "codemirror_mode": {
    "name": "ipython",
    "version": 3
   },
   "file_extension": ".py",
   "mimetype": "text/x-python",
   "name": "python",
   "nbconvert_exporter": "python",
   "pygments_lexer": "ipython3",
   "version": "3.9.13"
  }
 },
 "nbformat": 4,
 "nbformat_minor": 5
}
