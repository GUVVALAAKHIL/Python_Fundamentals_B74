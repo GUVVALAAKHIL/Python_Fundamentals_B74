{
 "cells": [
  {
   "cell_type": "code",
   "execution_count": null,
   "id": "22e75ae2",
   "metadata": {},
   "outputs": [],
   "source": [
    "continuation with string data types :"
   ]
  },
  {
   "cell_type": "code",
   "execution_count": null,
   "id": "0d30fb05",
   "metadata": {},
   "outputs": [],
   "source": []
  },
  {
   "cell_type": "code",
   "execution_count": 14,
   "id": "042e823f",
   "metadata": {},
   "outputs": [],
   "source": [
    "first_name = 'akhil'\n",
    "\n",
    "last_name = 'akki'"
   ]
  },
  {
   "cell_type": "code",
   "execution_count": 15,
   "id": "ee1f2465",
   "metadata": {},
   "outputs": [],
   "source": [
    "# req : { want to get the full name.....? "
   ]
  },
  {
   "cell_type": "code",
   "execution_count": null,
   "id": "6db313c6",
   "metadata": {},
   "outputs": [],
   "source": []
  },
  {
   "cell_type": "code",
   "execution_count": null,
   "id": "d5a0b619",
   "metadata": {},
   "outputs": [],
   "source": [
    "understanding the concept of string :"
   ]
  },
  {
   "cell_type": "code",
   "execution_count": null,
   "id": "7bc2afa3",
   "metadata": {},
   "outputs": [],
   "source": []
  },
  {
   "cell_type": "code",
   "execution_count": 17,
   "id": "8e54dbaa",
   "metadata": {},
   "outputs": [],
   "source": [
    "# general syntax of f strings"
   ]
  },
  {
   "cell_type": "code",
   "execution_count": null,
   "id": "2ea79181",
   "metadata": {},
   "outputs": [],
   "source": [
    "f \" custom words {place_holder - 1} {placeholder - 2}..........{place_holder -----n}\""
   ]
  },
  {
   "cell_type": "code",
   "execution_count": null,
   "id": "577f1fe1",
   "metadata": {},
   "outputs": [],
   "source": []
  },
  {
   "cell_type": "code",
   "execution_count": 19,
   "id": "0fb0e05a",
   "metadata": {},
   "outputs": [
    {
     "name": "stdout",
     "output_type": "stream",
     "text": [
      "akhil akki\n"
     ]
    }
   ],
   "source": [
    "full_name = f\"{first_name} {last_name}\"\n",
    "print (full_name)"
   ]
  },
  {
   "cell_type": "code",
   "execution_count": 20,
   "id": "51f5f972",
   "metadata": {},
   "outputs": [
    {
     "name": "stdout",
     "output_type": "stream",
     "text": [
      " keep up the good work, Akhil Akki\n"
     ]
    }
   ],
   "source": [
    "message = f\" keep up the good work, {full_name.title()}\"\n",
    "print(message)"
   ]
  },
  {
   "cell_type": "code",
   "execution_count": null,
   "id": "c39ed08a",
   "metadata": {},
   "outputs": [],
   "source": []
  },
  {
   "cell_type": "code",
   "execution_count": null,
   "id": "a8207ccd",
   "metadata": {},
   "outputs": [],
   "source": [
    "adding the white spaces :"
   ]
  },
  {
   "cell_type": "code",
   "execution_count": 25,
   "id": "c6aabedc",
   "metadata": {},
   "outputs": [
    {
     "name": "stdout",
     "output_type": "stream",
     "text": [
      "favourite_programming_language:pythonjavac++swiftpascalcobal\n"
     ]
    }
   ],
   "source": [
    "print(\"favourite_programming_language:pythonjavac++swiftpascalcobal\")"
   ]
  },
  {
   "cell_type": "code",
   "execution_count": null,
   "id": "e90bf318",
   "metadata": {},
   "outputs": [],
   "source": [
    "\\n -----> it is called as new line delimiter"
   ]
  },
  {
   "cell_type": "code",
   "execution_count": 28,
   "id": "05d43957",
   "metadata": {},
   "outputs": [
    {
     "name": "stdout",
     "output_type": "stream",
     "text": [
      "favourite_programming_language :\n",
      "python\n",
      "java\n",
      "c++\n",
      "swift\n",
      "pascal\n",
      "cobal\n"
     ]
    }
   ],
   "source": [
    "print(\"favourite_programming_language :\\npython\\njava\\nc++\\nswift\\npascal\\ncobal\")"
   ]
  },
  {
   "cell_type": "code",
   "execution_count": null,
   "id": "bc9d1205",
   "metadata": {},
   "outputs": [],
   "source": [
    "\\t -----> tab delimiter"
   ]
  },
  {
   "cell_type": "code",
   "execution_count": 29,
   "id": "8c0b3039",
   "metadata": {},
   "outputs": [
    {
     "name": "stdout",
     "output_type": "stream",
     "text": [
      "favourite_programming_language:\tpython\tjava\tc++\tswift\tpascal\tcobal\n"
     ]
    }
   ],
   "source": [
    "print(\"favourite_programming_language:\\tpython\\tjava\\tc++\\tswift\\tpascal\\tcobal\")"
   ]
  },
  {
   "cell_type": "code",
   "execution_count": null,
   "id": "716008ea",
   "metadata": {},
   "outputs": [],
   "source": []
  },
  {
   "cell_type": "code",
   "execution_count": null,
   "id": "db15c0f5",
   "metadata": {},
   "outputs": [],
   "source": [
    "Removing whitespaces from strings :"
   ]
  },
  {
   "cell_type": "code",
   "execution_count": 30,
   "id": "14f1941f",
   "metadata": {},
   "outputs": [
    {
     "name": "stdout",
     "output_type": "stream",
     "text": [
      "nikhil\n"
     ]
    }
   ],
   "source": [
    "name = 'nikhil'\n",
    "\n",
    "print(name)"
   ]
  },
  {
   "cell_type": "code",
   "execution_count": 34,
   "id": "65f6e5f8",
   "metadata": {},
   "outputs": [
    {
     "name": "stdout",
     "output_type": "stream",
     "text": [
      "   akki\n"
     ]
    }
   ],
   "source": [
    "name2 = '   akki'\n",
    "\n",
    "print(name2)"
   ]
  },
  {
   "cell_type": "code",
   "execution_count": 35,
   "id": "b04d347e",
   "metadata": {},
   "outputs": [
    {
     "name": "stdout",
     "output_type": "stream",
     "text": [
      "daddy   \n"
     ]
    }
   ],
   "source": [
    "name3 = 'daddy   '\n",
    "\n",
    "print(name3)"
   ]
  },
  {
   "cell_type": "code",
   "execution_count": 36,
   "id": "3344a24b",
   "metadata": {},
   "outputs": [
    {
     "data": {
      "text/plain": [
       "'akki'"
      ]
     },
     "execution_count": 36,
     "metadata": {},
     "output_type": "execute_result"
    }
   ],
   "source": [
    "name2.lstrip()"
   ]
  },
  {
   "cell_type": "code",
   "execution_count": 38,
   "id": "e71cc916",
   "metadata": {},
   "outputs": [
    {
     "data": {
      "text/plain": [
       "'daddy'"
      ]
     },
     "execution_count": 38,
     "metadata": {},
     "output_type": "execute_result"
    }
   ],
   "source": [
    "name3.rstrip()"
   ]
  },
  {
   "cell_type": "code",
   "execution_count": 39,
   "id": "dd40bdb1",
   "metadata": {},
   "outputs": [
    {
     "name": "stdout",
     "output_type": "stream",
     "text": [
      "  amma   \n"
     ]
    }
   ],
   "source": [
    "name4 = '  amma   '\n",
    "\n",
    "print(name4)"
   ]
  },
  {
   "cell_type": "code",
   "execution_count": 40,
   "id": "e1169828",
   "metadata": {},
   "outputs": [
    {
     "data": {
      "text/plain": [
       "'amma'"
      ]
     },
     "execution_count": 40,
     "metadata": {},
     "output_type": "execute_result"
    }
   ],
   "source": [
    "name4.strip()   # search  + execute......"
   ]
  },
  {
   "cell_type": "code",
   "execution_count": null,
   "id": "22600d48",
   "metadata": {},
   "outputs": [],
   "source": []
  }
 ],
 "metadata": {
  "kernelspec": {
   "display_name": "Python 3 (ipykernel)",
   "language": "python",
   "name": "python3"
  },
  "language_info": {
   "codemirror_mode": {
    "name": "ipython",
    "version": 3
   },
   "file_extension": ".py",
   "mimetype": "text/x-python",
   "name": "python",
   "nbconvert_exporter": "python",
   "pygments_lexer": "ipython3",
   "version": "3.9.13"
  }
 },
 "nbformat": 4,
 "nbformat_minor": 5
}
